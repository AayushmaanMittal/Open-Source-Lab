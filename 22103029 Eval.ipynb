{
 "cells": [
  {
   "cell_type": "code",
   "execution_count": 17,
   "metadata": {},
   "outputs": [
    {
     "name": "stdout",
     "output_type": "stream",
     "text": [
      "Enter id1\n",
      "Enter nameAayushmaan Mittal\n",
      "Enter class9\n",
      "Enter height5.7\n",
      "Enter Weight80\n",
      "{1: {'name': 'Aayushmaan Mittal', 'clas': '9', 'height': '5.7', 'weight': '80', 'fav_sport': '', 'diet': ''}}\n",
      "Enter agility11\n",
      "Enter strength12\n",
      "Enter speed9\n",
      "The personalise diet plan is\n",
      "\n",
      "Roti Dal Chawal\n",
      "\n",
      "{1: {'name': 'Aayushmaan Mittal', 'clas': '9', 'height': '5.7', 'weight': '80', 'fav_sport': 'Javelin', 'diet': 'Roti Dal Chawal'}}\n"
     ]
    }
   ],
   "source": [
    "students={}\n",
    "sports={'Cricket':\"Eggs Milk Fruits\",'Javelin':\"Roti Dal Chawal\",'Football':\"Protein rich diet including rajmas\",'Chess':\"Almonds milk fruits\"}\n",
    "\n",
    "def add_students():\n",
    "    i_d=int(input(\"Enter id\"))\n",
    "    name=input(\"Enter name\")\n",
    "    clas=input(\"Enter class\")\n",
    "    height=input(\"Enter height\")\n",
    "    weight=input(\"Enter Weight\")\n",
    "    students[i_d]={\n",
    "        'name':name,\n",
    "        'clas':clas,\n",
    "        'height':height,\n",
    "        'weight':weight,\n",
    "        'fav_sport':\"\",\n",
    "        'diet':\"\"\n",
    "    }\n",
    "\n",
    "def get_sports(agility,speed,strength):\n",
    "    if agility>10 and speed>10 and strength>10:\n",
    "        return \"Cricket\"\n",
    "    if agility>9 and speed>8 and strength>7:\n",
    "        return \"Javelin\"\n",
    "    if agility>7 and speed>6 and strength>5:\n",
    "        return \"Football\"\n",
    "    else :\n",
    "        return \"Chess\"\n",
    "    \n",
    "def add_fav_sport(student_id):\n",
    "    if student_id in students:\n",
    "        agility=int(input(\"Enter agility\"))\n",
    "        strength=int(input(\"Enter strength\"))\n",
    "        speed=int(input(\"Enter speed\"))\n",
    "        fav_sports=get_sports(agility,speed,strength)\n",
    "        students[student_id]['fav_sport']=fav_sports\n",
    "        print(\"The personalise diet plan is\")\n",
    "        print(\"\")\n",
    "        print(sports[fav_sports])\n",
    "        students[student_id]['diet']=sports[fav_sports]\n",
    "    else:\n",
    "        print(\"There is no student with this student id\")\n",
    "        \n",
    "\n",
    "add_students()\n",
    "print(students)\n",
    "add_fav_sport(1)\n",
    "print()\n",
    "print(students)"
   ]
  },
  {
   "cell_type": "code",
   "execution_count": null,
   "metadata": {},
   "outputs": [],
   "source": []
  }
 ],
 "metadata": {
  "kernelspec": {
   "display_name": "Python 3",
   "language": "python",
   "name": "python3"
  },
  "language_info": {
   "codemirror_mode": {
    "name": "ipython",
    "version": 3
   },
   "file_extension": ".py",
   "mimetype": "text/x-python",
   "name": "python",
   "nbconvert_exporter": "python",
   "pygments_lexer": "ipython3",
   "version": "3.7.3"
  }
 },
 "nbformat": 4,
 "nbformat_minor": 2
}
